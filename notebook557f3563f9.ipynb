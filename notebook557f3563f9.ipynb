{
 "cells": [
  {
   "cell_type": "code",
   "execution_count": 1,
   "id": "85e4b759",
   "metadata": {
    "execution": {
     "iopub.execute_input": "2023-05-23T05:59:36.777158Z",
     "iopub.status.busy": "2023-05-23T05:59:36.776745Z",
     "iopub.status.idle": "2023-05-23T05:59:40.342530Z",
     "shell.execute_reply": "2023-05-23T05:59:40.340767Z"
    },
    "papermill": {
     "duration": 3.5828,
     "end_time": "2023-05-23T05:59:40.345802",
     "exception": false,
     "start_time": "2023-05-23T05:59:36.763002",
     "status": "completed"
    },
    "tags": []
   },
   "outputs": [
    {
     "name": "stdout",
     "output_type": "stream",
     "text": [
      "                                               title  \\\n",
      "0  1000वें IPL मैच में राजस्थान को 6 विकेट से हरा...   \n",
      "1  सुपरजायंट्स को उसी के घर में 18 रन से हराया, स...   \n",
      "2  11 हजार+ छक्के पड़े, 10 हजार से ज्यादा विकेट भी...   \n",
      "3  जिस्म नहीं, इडली-डोसा बेच रहीं, टिफिन सर्विस भ...   \n",
      "4  तुरंत प्लान-बी एक्टिवेट कर दिया; लादेन को मारत...   \n",
      "\n",
      "                                                text  \n",
      "0  Hindi News\\r\\nSports\\r\\nCricket\\r\\nIpl\\r\\nMI V...  \n",
      "1  Hindi News\\r\\nSports\\r\\nCricket\\r\\nIpl\\r\\nRCB ...  \n",
      "2  Hindi News\\r\\nSports\\r\\nCricket\\r\\nIpl\\r\\nIPL ...  \n",
      "3  Hindi News\\r\\nWomen\\r\\nDelhi Kolkata Sex Worke...  \n",
      "4  Hindi News\\r\\nDb original\\r\\nExplainer\\r\\nOsam...  \n"
     ]
    },
    {
     "data": {
      "text/plain": [
       "'Hindi News\\r\\nSports\\r\\nCricket\\r\\nIpl\\r\\nMI VS RR IPL LIVE Score Update; Rohit Sharma Suryakumar Yadav | Sanju Samson\\r\\nआखिरी ओवर में डेविड के 3 छक्कों से जीता मुंबई: 1000वें IPL मैच में राजस्थान को 6 विकेट से हराया; यशस्वी ने लगाया शतक\\r\\nमुंबई 3 दिन पहले\\r\\nकॉपी लिंक\\r\\nइंडियन प्रीमियर लीग (IPL) के 1000वें मैच में मुंबई इंडियंस (MI) ने राजस्थान रॉयल्स (RR) को 6 विकेट से हरा दिया। रोमांचक मुकाबले में मुंबई को आखिरी ओवर में 17 रन की जरूरत थी। जेसन होल्डर के सामने टिम डेविड ने शुरुआती 3 बॉल पर ही 3 छक्के लगाकर टीम को जीत दिला दी। डेविड 14 गेंद में 45 रन बनाकर नॉटआउट रहे।\\r\\nराजस्थान से 21 साल के यशस्वी जायसवाल ने करियर का पहला शतक लगाया। उन्होंने 62 गेंद पर 124 रन की पारी खेली। इस प्रदर्शन के लिए उन्हें प्लेयर ऑफ द मैच का अवॉर्ड मिला। मुंबई से सूर्यकुमार यादव ने 29 गेंद पर 55 रन बनाए।\\r\\nमैच का स्कोरकार्ड देखने के लिए यहां क्लिक करें...\\r\\nसबसे पहले मैच के टर्निंग पॉइंट्स पढ़ें...\\r\\nयशस्वी की सेंचुरी\\r\\nपहली पारी में राजस्थान से यशस्वी जायसवाल ने 53 गेंद पर शतक बनाकर टीम का स्कोर 200 के पार पहुंचाया। वह 62 गेंद में 124 रन बनाकर नॉटआउट रहे। यह उनकी IPL करियर की पहली सेंचुरी भी रही।\\r\\nसूर्यकुमार की पारी\\r\\nदूसरी पारी में सूर्यकुमार यादव ने 24 गेंद पर फिफ्टी जड़ दी। संदीप शर्मा के डाइविंग कैच ने उन्हें 55 रन के स्कोर पर पवेलियन भेज दिया। वे जब आउट हुए, तब मुंबई को 4 ओवर में 57 रन की जरूरत थी।\\r\\nडेविड के 3 छक्के\\r\\n16वें ओवर में सूर्यकुमार यादव का विकेट गिरने के बाद बैटिंग पर आए टिम डेविड ने 14 गेंद पर 45 रन बनाए। मुंबई को आखिरी ओवर में 17 रन की जरूरत थी, डेविड ने 3 लगातार छक्के लगाकर टीम को जीत दिला दी।\\r\\nजीत के बाद खुशी मनाते तिलक वर्मा और टिम डेविड।\\r\\nमैच में बने रिकॉर्ड...\\r\\nयशस्वी ने 53 गेंद पर लगाई सेंचुरी\\r\\nयशस्वी जायसवाल ने शुरुआती ओवरों से ही अटैक करना शुरू किया। उन्होंने जोस बटलर के साथ 71 रन की पार्टनरशिप करने के बाद आखिरी ओवर तक बैटिंग की और टीम का स्कोर 200 के पार पहुंचाया। यशस्वी ने 53 गेंद पर IPL करियर की पहली सेंचुरी लगाई, वह 62 गेंद में 124 रन बनाकर आउट हुए। इस पारी में उन्होंने 16 चौके और 8 छक्के लगाए, उनका स्ट्राइक रेट 200 का रहा।\\r\\nIPL 2023 का तीसरा शतक\\r\\nयशस्वी जायसवाल ने IPL 2023 का तीसरा शतक लगाया। उनसे पहले कोलकाता के वेंकटेश अय्यर ने मुंबई के खिलाफ 104 और हैदराबाद के हैरी ब्रूक ने कोलकाता के खिलाफ 100 रन बनाए थे। यशस्वी के 124 रन इस सीजन का सबसे बड़ा स्कोर है, उन्होंने राजस्थान के लिए भी सबसे बड़े स्कोर की बराबरी की। उनसे पहले जोस बटलर भी राजस्थान के लिए 64 गेंद पर 124 रन बना चुके हैं।\\r\\nपढ़ें मैच रिपोर्ट...\\r\\nपावरप्ले में जायसवाल की आक्रामक शुरुआत\\r\\nटॉस जीतकर पहले बैटिंग करने उतरी राजस्थान को यशस्वी जायसवाल और जोस बटलर ने तेज शुरुआत दिलाई। जायसवाल ने पहले ओवर से शॉट्स लगाए, वहीं बटलर ने थोड़ा समय लेने के बाद बड़े शॉट्स लगाना शुरू किए। दोनों ने 5वें ओवर में ही आपस में सीजन की 5वीं फिफ्टी पार्टनरशिप की और 6 ओवर में बगैर नुकसान के टीम का स्कोर 65 रन तक पहुंचा दिया।\\r\\nरिव्यू में बचे बटलर\\r\\nपहली पारी में तीसरे ओवर में कैमरून ग्रीन की बॉल पर बटलर को अंपायर ने कैच आउट करार दिया। बटलर ने रिव्यू लिया, रिप्ले में नजर आया कि बॉल ने बैट का किनारा नहीं लिया था। अंपायर ने अपना फैसला बदला और बटलर नॉटआउट रहे। हालांकि, वे जीवनदान का खास फायदा नहीं उठा सके और 8वें ओवर में 18 रन बनाकर आउट हो गए।\\r\\nयशस्वी के अलावा कोई नहीं चला\\r\\nराजस्थान से यशस्वी के अलावा जोस बटलर ने 18, संजू सैमसन ने 14, देवदत्त पड्डीकल ने 2, जेसन होल्डनर ने 11, शिमरोन हेटमायर ने 8, ध्रुव जुरेल ने 2 और रविचंद्रन अश्विन ने 8 रन बनाए। मुंबई से अरशद खान ने 3 और पीयूष चावला ने 2 विकेट लिए। जोफ्रा आर्चर और राइली मेरेडिथ को 1-1 विकेट मिला।\\r\\nऐसे गिरे राजस्थान के विकेट...\\r\\nपहला: 8वें ओवर की पहली बॉल पीयूष चावला ने मिडिल स्टंप पर गुड लेंथ फेंकी। जोस बटलर लॉन्ग ऑन पर कैच हो गए। उन्होंने 19 गेंद पर 18 रन बनाए।\\r\\n8वें ओवर की पहली बॉल पीयूष चावला ने मिडिल स्टंप पर गुड लेंथ फेंकी। जोस बटलर लॉन्ग ऑन पर कैच हो गए। उन्होंने 19 गेंद पर 18 रन बनाए। दूसरा: 10वें ओवर की पांचवीं बॉल लेग स्टंप पर गुड लेंथ फेंकी। संजू सैमसन डीप मिड-विकेट पर कैच हो गए, उन्होंने 10 बॉल पर 14 रन बनाए।\\r\\n10वें ओवर की पांचवीं बॉल लेग स्टंप पर गुड लेंथ फेंकी। संजू सैमसन डीप मिड-विकेट पर कैच हो गए, उन्होंने 10 बॉल पर 14 रन बनाए। तीसरा: 11वें ओवर की पांचवीं बॉल पीयूष चावला ने गुड लेंथ फेंकी, देवदत्त पड्डीकल बोल्ड हो गए। उन्होंने 2 रन बनाए।\\r\\n11वें ओवर की पांचवीं बॉल पीयूष चावला ने गुड लेंथ फेंकी, देवदत्त पड्डीकल बोल्ड हो गए। उन्होंने 2 रन बनाए। चौथा: 15वें ओवर की पहली बॉल जोफ्रा आर्चर ने ऑफ स्टंप पर शॉर्ट पिच फेंकी। जेसन होल्डर लॉन्ग ऑफ पर कैच हो गए, उन्होंने 11 रन बनाए।\\r\\n15वें ओवर की पहली बॉल जोफ्रा आर्चर ने ऑफ स्टंप पर शॉर्ट पिच फेंकी। जेसन होल्डर लॉन्ग ऑफ पर कैच हो गए, उन्होंने 11 रन बनाए। पांचवां: 17वें ओवर की दूसरी बॉल अरशद खान ने स्लोअर बॉल फेंकी। शिमरोन हेटमायर डीप मिड-विकेट पर कैच हो गए, उन्होंने 8 रन बनाए।\\r\\n17वें ओवर की दूसरी बॉल अरशद खान ने स्लोअर बॉल फेंकी। शिमरोन हेटमायर डीप मिड-विकेट पर कैच हो गए, उन्होंने 8 रन बनाए। छठा: 18वें ओवर की पहली बॉल राइली मेरेडिथ ने फुलर लेंथ फेंकी, ध्रुव जुरेल डीप मिड-विकेट पर कैच हो गए। उन्होंने 2 रन बनाए।\\r\\n18वें ओवर की पहली बॉल राइली मेरेडिथ ने फुलर लेंथ फेंकी, ध्रुव जुरेल डीप मिड-विकेट पर कैच हो गए। उन्होंने 2 रन बनाए। सातवां : राजस्थान की पारी का आखिरी ओवर मुंबई की ओर से अरशद खान कर रहे थे। ओवर की तीसरी गेंद 141kph की रफ्तार से अरशद ने फेंकी। यशस्वी सीधा शॉट मारना चाहते थे। पर गेंद से बल्ले पर नहीं आई और अरशद ने ही कैच पकड़ लिया।\\r\\nपावरप्ले में गंवाया रोहित का विकेट\\r\\n213 रन के टारगेट का पीछा करने उतरी मुंबई की शुरुआत खराब रही। टीम ने दूसरे ही ओवर में कप्तान रोहित का विकेट गंवा दिया। यहां से ईशान किशन और कैमरून ग्रीन ने पारी संभाली और टीम का स्कोर 6 ओवर में 58 रन कर दिया।\\r\\nसूर्यकुमार की आक्रामक फिफ्टी\\r\\nनंबर-4 पर बैटिंग करने उतरे सूर्यकुमार यादव ने 24 गेंद पर ही फिफ्टी लगा दी। उन्होंने ग्राउंड के चारों तरफ शॉट्स लगाए और टीम के जीतने की उम्मीदें बनाए रखीं। सूर्या 29 गेंद में 55 रन बनाकर ट्रेंट बोल्ट का शिकार हुए। संदीप शर्मा ने उनका शानदार डाइविंग कैच पकड़ा।\\r\\nडेविड-तिलक ने जिताया\\r\\nसूर्यकुमार के विकेट के बाद उतरे टिम डेविड ने 14 गेंद पर 45 रन की नॉटआउट पारी खेलकर टीम को जीत दिलाई। तिलक वर्मा भी उनके साथ नॉटआउट रहे, उन्होंने 21 गेंद पर 29 रन बनाए। टीम के बाकी बैटर्स में कैमरून ग्रीन ने 44, ईशान किशन ने 28 और रोहित शर्मा ने 3 रन बनाए।\\r\\nराजस्थान से रविचंद्रन अश्विन को 2 विकेट मिले। वहीं ट्रेंट बोल्ट और संदीप शर्मा को 1-1 सफलता मिली।\\r\\nऐसे गिरे मुंबई के विकेट...\\r\\nपहला: दूसरे ओवर की आखिरी गेंद संदीप शर्मा ने रोहित शर्मा को गुड लेंथ पर स्लोअर फेंकी। रोहित बोल्ड हो गए, उन्होंने 3 रन बनाए।\\r\\nदूसरे ओवर की आखिरी गेंद संदीप शर्मा ने रोहित शर्मा को गुड लेंथ पर स्लोअर फेंकी। रोहित बोल्ड हो गए, उन्होंने 3 रन बनाए। दूसरा: 9वें ओवर की दूसरी बॉल रविचंद्रन अश्विन ने ऑफ स्टंप पर फ्लाइटेड फेंकी। ईशान किशन एक्स्ट्रा कवर्स पर कैच हो गए, उन्होंने 28 रन बनाए।\\r\\n9वें ओवर की दूसरी बॉल रविचंद्रन अश्विन ने ऑफ स्टंप पर फ्लाइटेड फेंकी। ईशान किशन एक्स्ट्रा कवर्स पर कैच हो गए, उन्होंने 28 रन बनाए। तीसरा: 11वें ओवर की चौथी बॉल अश्विन ने लेग स्टंप पर फ्लिपर फेंकी। कैमरून ग्रीन डीप मिड-विकेट पर कैच हो गए। उन्होंने 44 रन बनाए।\\r\\n11वें ओवर की चौथी बॉल अश्विन ने लेग स्टंप पर फ्लिपर फेंकी। कैमरून ग्रीन डीप मिड-विकेट पर कैच हो गए। उन्होंने 44 रन बनाए। चौथा: 16वें ओवर की चौथी बॉल ट्रेंट बोल्ट ने स्लोअर बॉल फेंकी। सूर्यकुमार यादव ने स्कूप किया, लेकिन संदीप शर्मा ने शॉर्ट फाइन लेग पर कैच कर लिया। सूर्या ने 55 रन बनाए।\\r\\nचैंपियन टीमों के बीच हुआ IPL का 1000वां मैच\\r\\nमुंबई और राजस्थान का मैच IPL इतिहास का 1000वां मैच रहा। मुंबई IPL की सबसे सफल टीम है। टीम ने 2013, 2015, 2017, 2019 और 2020 में कुल पांच बार IPL ट्रॉफी जीती है। वहीं राजस्थान IPL के पहले सीजन की चैंपियन है। ऐसे में 1000वां मैच इन दोनों ऐतिहासिक टीमों के बीच ही खेला गया।\\r\\n1000वें IPL मैच से पहले मुंबई के वानखेड़े स्टेडियम में स्पेशल सेरेमनी आयोजित की गई।\\r\\nदोनों टीमों की प्लेइंग-11...\\r\\nमुंबई इंडियंस : रोहित शर्मा (कप्तान), ईशान किशन (विकेटकीपर), कैमरून ग्रीन, सूर्यकुमार यादव, तिलक वर्मा, टिम डेविड, रिले मेरेडिथ, जोफ्रा आर्चर, कुमार कार्तिकेय, पीयूष चावला, अरशद खान।\\r\\nइम्पैक्ट प्लेयर्स : नेहल वधेरा, रमनदीप सिंह, विष्णु विनोद, शम्स मुलानी और अर्जुन तेंदुलकर।\\r\\nराजस्थान रॉयल्स : संजू सैमसन (कप्तान और विकेटकीपर), जोस बटलर, यशस्वी जायसवाल, देवदत्त पड्\\u200cडीकल, शिमरोन हेटमायर, रविचंद्रन अश्विन, ध्रुव जुरेल, ट्रेंट बोल्ट, युजवेंद्र चहल, संदीप शर्मा और जेसन होल्डर।\\r\\nइम्पैक्ट प्लेयर्स : कुलदीप सेन।'"
      ]
     },
     "execution_count": 1,
     "metadata": {},
     "output_type": "execute_result"
    }
   ],
   "source": [
    "import pandas as pd\n",
    "\n",
    "df = pd.read_csv(\"..//input/hindibook/HindiBook.csv\")\n",
    "\n",
    "# Print the 'headline' column to check if the Hindi text is displayed correctly\n",
    "print(df.head())\n",
    "df.loc[0,'text']"
   ]
  },
  {
   "cell_type": "code",
   "execution_count": 2,
   "id": "8fdd870f",
   "metadata": {
    "execution": {
     "iopub.execute_input": "2023-05-23T05:59:40.366130Z",
     "iopub.status.busy": "2023-05-23T05:59:40.365849Z",
     "iopub.status.idle": "2023-05-23T05:59:40.379309Z",
     "shell.execute_reply": "2023-05-23T05:59:40.378293Z"
    },
    "papermill": {
     "duration": 0.025791,
     "end_time": "2023-05-23T05:59:40.381626",
     "exception": false,
     "start_time": "2023-05-23T05:59:40.355835",
     "status": "completed"
    },
    "tags": []
   },
   "outputs": [],
   "source": [
    "import re\n",
    "\n",
    "#Removes non-alphabetic characters:\n",
    "def text_strip(column,name):\n",
    "    i=0\n",
    "    for row in column:\n",
    "        \n",
    "        row=re.sub(\"(\\\\t)\", ' ', str(row)).lower() #delete escape charecters\n",
    "        row=re.sub(\"(\\\\r)\", ' ', str(row)).lower() \n",
    "        row=re.sub(\"(\\\\n)\", ' ', str(row)).lower()\n",
    "        row= re.sub('[a-zA-Z]', '', str(row)).lower()\n",
    "        \n",
    "        row=re.sub(\"(__+)\", ' ', str(row)).lower()   #delete _ if more than one time repeatedly\n",
    "        row=re.sub(\"(--+)\", ' ', str(row)).lower()   #delete - if more than one time repeatedly\n",
    "        row=re.sub(\"(~~+)\", ' ', str(row)).lower()   #delete ~ if more than one time repeatedly\n",
    "        row=re.sub(\"(\\+\\++)\", ' ', str(row)).lower()   #delete + if more than one time repeatedly\n",
    "        row=re.sub(\"(\\.\\.+)\", ' ', str(row)).lower()   #delete . if more than one time repeatedly\n",
    "        \n",
    "        row=re.sub(r\"[<>()|&©ø\\[\\]\\'\\\",;?~*!]\", ' ', str(row)).lower() #delete <>()|&©ø\"',;?~*!\n",
    "        \n",
    "#         row=re.sub(\"(mailto:)\", ' ', str(row)).lower() #delete mailto:\n",
    "#         row=re.sub(r\"(\\\\x9\\d)\", ' ', str(row)).lower() #delete \\x9* in text\n",
    "#         row=re.sub(\"([iI][nN][cC]\\d+)\", 'INC_NUM', str(row)).lower() #replace INC nums to INC_NUM\n",
    "#         row=re.sub(\"([cC][mM]\\d+)|([cC][hH][gG]\\d+)\", 'CM_NUM', str(row)).lower() #replace CM# and CHG# to CM_NUM\n",
    "        \n",
    "        \n",
    "        row=re.sub(\"(\\|\\s+)\", ' ', str(row)).lower() #delete full stop at end of words(not between)\n",
    "        row=re.sub(\"(\\-\\s+)\", ' ', str(row)).lower() #delete - at end of words(not between)\n",
    "        row=re.sub(\"(\\:\\s+)\", ' ', str(row)).lower() #delete : at end of words(not between)\n",
    "        \n",
    "        row=re.sub(\"(\\s+.\\s+)\", ' ', str(row)).lower() #delete any single charecters hanging between 2 spaces\n",
    "        \n",
    "#         # Change url http://www.youtube.com/watch/43865346kcre8375 ====> www.youtube.com\n",
    "#         try:\n",
    "#             url = re.search(r'((https*:\\/*)([^\\/\\s]+))(.[^\\s]+)', str(row))\n",
    "#             repl_url = url.group(3)\n",
    "#             row = re.sub(r'((https*:\\/*)([^\\/\\s]+))(.[^\\s]+)',repl_url, str(row))\n",
    "#         except:\n",
    "#             pass #there might be emails with no url in them\n",
    "        \n",
    "\n",
    "        \n",
    "        row = re.sub(\"(\\s+)\",' ',str(row)).lower() #delete multiple spaces\n",
    "        \n",
    "        #Should always be last\n",
    "        row=re.sub(\"(\\s+.\\s+)\", ' ', str(row)).lower() #delete any single charecters hanging between 2 spaces\n",
    "\n",
    "        row1=process_text(row)\n",
    "        str1=' '.join([str(elem) for elem in row1])\n",
    "        df.loc[i,name]=str1\n",
    "        \n",
    "        i=i+1\n",
    "#         yield row"
   ]
  },
  {
   "cell_type": "code",
   "execution_count": 3,
   "id": "1daba464",
   "metadata": {
    "execution": {
     "iopub.execute_input": "2023-05-23T05:59:40.400833Z",
     "iopub.status.busy": "2023-05-23T05:59:40.400548Z",
     "iopub.status.idle": "2023-05-23T05:59:43.202132Z",
     "shell.execute_reply": "2023-05-23T05:59:43.201204Z"
    },
    "papermill": {
     "duration": 2.814321,
     "end_time": "2023-05-23T05:59:43.204812",
     "exception": false,
     "start_time": "2023-05-23T05:59:40.390491",
     "status": "completed"
    },
    "tags": []
   },
   "outputs": [
    {
     "name": "stderr",
     "output_type": "stream",
     "text": [
      "/opt/conda/lib/python3.10/site-packages/scipy/__init__.py:146: UserWarning: A NumPy version >=1.16.5 and <1.23.0 is required for this version of SciPy (detected version 1.23.5\n",
      "  warnings.warn(f\"A NumPy version >={np_minversion} and <{np_maxversion}\"\n"
     ]
    }
   ],
   "source": [
    "import nltk\n",
    "from nltk.corpus import stopwords\n",
    "from nltk.stem import SnowballStemmer\n",
    "from nltk.tokenize import word_tokenize, sent_tokenize\n",
    "import string"
   ]
  },
  {
   "cell_type": "code",
   "execution_count": 4,
   "id": "1a44b7f8",
   "metadata": {
    "execution": {
     "iopub.execute_input": "2023-05-23T05:59:43.224329Z",
     "iopub.status.busy": "2023-05-23T05:59:43.223991Z",
     "iopub.status.idle": "2023-05-23T05:59:43.664933Z",
     "shell.execute_reply": "2023-05-23T05:59:43.663780Z"
    },
    "papermill": {
     "duration": 0.452937,
     "end_time": "2023-05-23T05:59:43.667005",
     "exception": false,
     "start_time": "2023-05-23T05:59:43.214068",
     "status": "completed"
    },
    "tags": []
   },
   "outputs": [
    {
     "name": "stdout",
     "output_type": "stream",
     "text": [
      "[nltk_data] Downloading package punkt to /usr/share/nltk_data...\n",
      "[nltk_data]   Package punkt is already up-to-date!\n",
      "[nltk_data] Downloading package stopwords to /usr/share/nltk_data...\n",
      "[nltk_data]   Package stopwords is already up-to-date!\n",
      "[nltk_data] Downloading package indian to /usr/share/nltk_data...\n",
      "[nltk_data]   Package indian is already up-to-date!\n"
     ]
    },
    {
     "data": {
      "text/plain": [
       "True"
      ]
     },
     "execution_count": 4,
     "metadata": {},
     "output_type": "execute_result"
    }
   ],
   "source": [
    "nltk.download('punkt')\n",
    "nltk.download('stopwords')\n",
    "nltk.download('indian')"
   ]
  },
  {
   "cell_type": "code",
   "execution_count": 5,
   "id": "e5f47bde",
   "metadata": {
    "execution": {
     "iopub.execute_input": "2023-05-23T05:59:43.687877Z",
     "iopub.status.busy": "2023-05-23T05:59:43.687219Z",
     "iopub.status.idle": "2023-05-23T05:59:43.701288Z",
     "shell.execute_reply": "2023-05-23T05:59:43.699992Z"
    },
    "papermill": {
     "duration": 0.026496,
     "end_time": "2023-05-23T05:59:43.703288",
     "exception": false,
     "start_time": "2023-05-23T05:59:43.676792",
     "status": "completed"
    },
    "tags": []
   },
   "outputs": [
    {
     "name": "stdout",
     "output_type": "stream",
     "text": [
      "{'अन्य', 'कहा', 'तिन्हें', 'अभी', 'गयी', 'जाते', 'प्रत्येक', 'इसलिए', 'जिन्हें', 'में', 'गया', 'स्थान', 'इसे', 'तहत', 'उन्हों', 'कल', 'इत्यादि', 'हमने', 'दिया', 'ही', 'कहते', 'मुझको', 'वग़ैरह', 'जायेंगे', 'तिसे', 'वह', 'आगे', 'अपना', 'सारा', 'क्यूंकि', 'इन', 'इसके', 'जब', 'उसकी', 'दूर', 'कभी', 'इसी', 'चाहिए', 'हूँ', 'बाद', 'बंद', 'ज्यादा', 'बाला', 'बाहर', 'थे', 'गई', 'से पहले', 'ये', 'किया जा रहा है', 'इन्हें', 'किए', 'किन्हों', 'मात्र', 'को', 'के बाद', 'होता है', 'के बारे में', 'की', 'सकते', 'मैं', 'होती', 'था', '\\ufeffके', 'कौन', 'ने', 'उसका', 'उसी', 'करना', 'दुबारा', 'और', 'उन्हें ', 'जितना', 'बनी', 'खुद ही', 'उन', 'लिये', 'आदि', 'करें', 'दोनो', 'अपने', 'जैसे', 'गये', 'किसे', 'जाने', 'उसे', 'मानो', 'दोनों', 'करता', 'आपका', 'हुये', 'उसके', 'बड़े', 'होना', 'बीच', 'खिलाफ', 'ऊपर', 'तिन्हों', 'अथवा', 'मे', 'रही', 'से नीचे', 'जिन्हों', 'आप', 'कुल', 'जाती', 'प्रति', 'तब', 'में कोई', 'अब', 'हो', 'कितना', 'साबुत', 'बही', 'करते', 'बिलकुल', 'लेकिन', 'इसमें', 'अपने आप', 'किसको', 'रहे', 'में कुछ', 'तिन', 'तथा', 'तो', 'तुम', 'एस', 'कम', 'जहाँ', 'सो', 'कर दिया', 'जिन', 'बहुत', 'भीतर', 'साथ', 'हुए', 'कि', 'करने', 'व', 'स्वयं', 'उनकी', 'कर', 'एक', 'हुआ', 'नीचे', 'अत', 'सकता', 'यदि', 'कौनसा', 'कैसे', 'पर', 'उस', 'पे', 'जिसमें', 'होता', 'से', 'जिसे', 'समय', 'रखें', 'वाले', 'निहायत', 'अगर', 'एवं', 'इस', 'सारे', 'पूरा', 'तक', 'इन्हों', 'दूसरा', 'इसकी', 'उनको', 'जबकि', 'उन्हीं', 'उन्होने', 'यहां', 'जाता', 'बड़ा', 'अंदर', 'करने में', 'ऐसा', 'क्यों', 'रहती', 'मगर', 'थी', 'कि वह', 'जीधर', 'जो', 'संग', 'किस', 'करता है', 'खुद', 'द्वारा', 'यहाँ', 'या', 'वे', 'कुछ', 'यह', 'दौरान', 'दो', 'तरह', 'आज', 'हम', 'मै', 'इन्हीं', 'निकल', 'कोई', 'होते', 'किया', 'तुम्हारा', 'जब तक', 'से अधिक', 'कहाँ', 'सभी', 'दूसरे', 'अपनी', 'ऐसे', 'कई', 'सकती', 'है', 'जा', 'एक बार', 'समान', 'अपने आप को', 'जैसा', 'जिस', 'क्या', 'काफ़ी', 'पूरे', 'वर्ग', 'गए', 'किन्हें', 'जिससे', 'किया है', 'खुद को', 'पहले', 'वहाँ', 'हुई', 'लेकर', 'वहीं', 'के लिए', 'इनकी', 'फिर', 'का', 'उनके', 'इसका', 'उनका', 'पडा', 'कब', 'हैं', 'रहा', 'तिस', 'परंतु', 'भी', 'यही', 'लिया', 'अधिकांश', 'लिए', 'इनका', 'जरा', 'हमारा', 'इनके', 'के माध्यम से', 'किसी', 'मेरा', 'होने'}\n"
     ]
    }
   ],
   "source": [
    "import os\n",
    "stop_words=set()\n",
    "\n",
    "with open('..//input/indian-language-stopwords/Hindi_stopwords.txt', \"r\", encoding='utf-8') as f:\n",
    "    for item in f.readlines():\n",
    "        \n",
    "        stop_words.add(item[0:-1])\n",
    "print(stop_words)  "
   ]
  },
  {
   "cell_type": "code",
   "execution_count": 6,
   "id": "16f21be9",
   "metadata": {
    "execution": {
     "iopub.execute_input": "2023-05-23T05:59:43.723656Z",
     "iopub.status.busy": "2023-05-23T05:59:43.722924Z",
     "iopub.status.idle": "2023-05-23T05:59:43.729938Z",
     "shell.execute_reply": "2023-05-23T05:59:43.729140Z"
    },
    "papermill": {
     "duration": 0.019094,
     "end_time": "2023-05-23T05:59:43.731804",
     "exception": false,
     "start_time": "2023-05-23T05:59:43.712710",
     "status": "completed"
    },
    "tags": []
   },
   "outputs": [],
   "source": [
    "\n",
    "# # Initialize stemmer\n",
    "# stemmer = SnowballStemmer(\"hindi\")\n",
    "\n",
    "# Define a function to perform text processing\n",
    "def process_text(text):\n",
    "    # Tokenize the text into sentences\n",
    "    sentences = sent_tokenize(text)\n",
    "    \n",
    "    # Initialize a list to store processed sentences\n",
    "    processed_sentences = []\n",
    "    \n",
    "    # Loop over each sentence\n",
    "    for sentence in sentences:\n",
    "        # Tokenize the sentence into words\n",
    "        words = word_tokenize(sentence)\n",
    "        \n",
    "        # Remove punctuation\n",
    "        words = [word for word in words if word not in string.punctuation]\n",
    "        \n",
    "        # Filter out stop words\n",
    "        words = [word for word in words if word.lower() not in stop_words]\n",
    "        \n",
    "#         # Stem the words\n",
    "#         stemmed_words = [stemmer.stem(word) for word in words]\n",
    "        \n",
    "        # Add the processed sentence to the list of processed sentences\n",
    "        processed_sentence = ' '.join(words)\n",
    "        processed_sentences.append(processed_sentence)\n",
    "    \n",
    "    # Return the list of processed sentences\n",
    "    return processed_sentences\n"
   ]
  },
  {
   "cell_type": "code",
   "execution_count": 7,
   "id": "cbae6d0d",
   "metadata": {
    "execution": {
     "iopub.execute_input": "2023-05-23T05:59:43.752550Z",
     "iopub.status.busy": "2023-05-23T05:59:43.751772Z",
     "iopub.status.idle": "2023-05-23T06:02:09.708665Z",
     "shell.execute_reply": "2023-05-23T06:02:09.707728Z"
    },
    "papermill": {
     "duration": 145.96996,
     "end_time": "2023-05-23T06:02:09.711237",
     "exception": false,
     "start_time": "2023-05-23T05:59:43.741277",
     "status": "completed"
    },
    "tags": []
   },
   "outputs": [],
   "source": [
    "cleaning1=text_strip(df['text'],'text')\n"
   ]
  },
  {
   "cell_type": "code",
   "execution_count": 8,
   "id": "d0154f25",
   "metadata": {
    "execution": {
     "iopub.execute_input": "2023-05-23T06:02:09.732191Z",
     "iopub.status.busy": "2023-05-23T06:02:09.731897Z",
     "iopub.status.idle": "2023-05-23T06:02:20.624128Z",
     "shell.execute_reply": "2023-05-23T06:02:20.623181Z"
    },
    "papermill": {
     "duration": 10.905197,
     "end_time": "2023-05-23T06:02:20.626606",
     "exception": false,
     "start_time": "2023-05-23T06:02:09.721409",
     "status": "completed"
    },
    "tags": []
   },
   "outputs": [],
   "source": [
    "cleaning2=text_strip(df['title'],'title')"
   ]
  },
  {
   "cell_type": "code",
   "execution_count": 9,
   "id": "be12c9f8",
   "metadata": {
    "execution": {
     "iopub.execute_input": "2023-05-23T06:02:20.648155Z",
     "iopub.status.busy": "2023-05-23T06:02:20.647166Z",
     "iopub.status.idle": "2023-05-23T06:02:20.660509Z",
     "shell.execute_reply": "2023-05-23T06:02:20.659710Z"
    },
    "papermill": {
     "duration": 0.026152,
     "end_time": "2023-05-23T06:02:20.662705",
     "exception": false,
     "start_time": "2023-05-23T06:02:20.636553",
     "status": "completed"
    },
    "tags": []
   },
   "outputs": [
    {
     "data": {
      "text/html": [
       "<div>\n",
       "<style scoped>\n",
       "    .dataframe tbody tr th:only-of-type {\n",
       "        vertical-align: middle;\n",
       "    }\n",
       "\n",
       "    .dataframe tbody tr th {\n",
       "        vertical-align: top;\n",
       "    }\n",
       "\n",
       "    .dataframe thead th {\n",
       "        text-align: right;\n",
       "    }\n",
       "</style>\n",
       "<table border=\"1\" class=\"dataframe\">\n",
       "  <thead>\n",
       "    <tr style=\"text-align: right;\">\n",
       "      <th></th>\n",
       "      <th>title</th>\n",
       "      <th>text</th>\n",
       "    </tr>\n",
       "  </thead>\n",
       "  <tbody>\n",
       "    <tr>\n",
       "      <th>0</th>\n",
       "      <td>1000वें मैच राजस्थान विकेट हराया यशस्वी लगाया शतक</td>\n",
       "      <td>आखिरी ओवर डेविड के छक्कों जीता मुंबई 1000वें म...</td>\n",
       "    </tr>\n",
       "    <tr>\n",
       "      <th>1</th>\n",
       "      <td>सुपरजायंट्स के घर 18 रन हराया सीजन सबसे छोटा स...</td>\n",
       "      <td>बेंगलुरु लखनऊ हिसाब बराबर सुपरजायंट्स के घर 18...</td>\n",
       "    </tr>\n",
       "    <tr>\n",
       "      <th>2</th>\n",
       "      <td>11 हजार+ छक्के पड़े 10 हजार विकेट गिरे 14 सुपर ...</td>\n",
       "      <td>1000 1000 मैच 11 हजार+ छक्के पड़े 10 हजार विकेट...</td>\n",
       "    </tr>\n",
       "    <tr>\n",
       "      <th>3</th>\n",
       "      <td>जिस्म नहीं इडली-डोसा बेच रहीं टिफिन सर्विस हिट...</td>\n",
       "      <td>2023 सेक्स वर्कर्स के स्टार्टअप्स जिस्म नहीं इ...</td>\n",
       "    </tr>\n",
       "    <tr>\n",
       "      <th>4</th>\n",
       "      <td>तुरंत प्लान-बी एक्टिवेट लादेन मारते चिल्लाए ‘ ...</td>\n",
       "      <td>भास्कर एक्सप्लेनर लादेन मारने अमेरिकी कमांडो म...</td>\n",
       "    </tr>\n",
       "  </tbody>\n",
       "</table>\n",
       "</div>"
      ],
      "text/plain": [
       "                                               title  \\\n",
       "0  1000वें मैच राजस्थान विकेट हराया यशस्वी लगाया शतक   \n",
       "1  सुपरजायंट्स के घर 18 रन हराया सीजन सबसे छोटा स...   \n",
       "2  11 हजार+ छक्के पड़े 10 हजार विकेट गिरे 14 सुपर ...   \n",
       "3  जिस्म नहीं इडली-डोसा बेच रहीं टिफिन सर्विस हिट...   \n",
       "4  तुरंत प्लान-बी एक्टिवेट लादेन मारते चिल्लाए ‘ ...   \n",
       "\n",
       "                                                text  \n",
       "0  आखिरी ओवर डेविड के छक्कों जीता मुंबई 1000वें म...  \n",
       "1  बेंगलुरु लखनऊ हिसाब बराबर सुपरजायंट्स के घर 18...  \n",
       "2  1000 1000 मैच 11 हजार+ छक्के पड़े 10 हजार विकेट...  \n",
       "3  2023 सेक्स वर्कर्स के स्टार्टअप्स जिस्म नहीं इ...  \n",
       "4  भास्कर एक्सप्लेनर लादेन मारने अमेरिकी कमांडो म...  "
      ]
     },
     "execution_count": 9,
     "metadata": {},
     "output_type": "execute_result"
    }
   ],
   "source": [
    "df.head()"
   ]
  },
  {
   "cell_type": "code",
   "execution_count": 10,
   "id": "f3e9faad",
   "metadata": {
    "execution": {
     "iopub.execute_input": "2023-05-23T06:02:20.684081Z",
     "iopub.status.busy": "2023-05-23T06:02:20.683549Z",
     "iopub.status.idle": "2023-05-23T06:02:20.725784Z",
     "shell.execute_reply": "2023-05-23T06:02:20.724519Z"
    },
    "papermill": {
     "duration": 0.055345,
     "end_time": "2023-05-23T06:02:20.728097",
     "exception": false,
     "start_time": "2023-05-23T06:02:20.672752",
     "status": "completed"
    },
    "tags": []
   },
   "outputs": [
    {
     "name": "stdout",
     "output_type": "stream",
     "text": [
      "0.996682394573872\n"
     ]
    }
   ],
   "source": [
    "count=0\n",
    "for i in df['title']:\n",
    "    if(len(i.split())<=20):\n",
    "        count=count+1\n",
    "print(count/len(df['title']))"
   ]
  },
  {
   "cell_type": "code",
   "execution_count": 11,
   "id": "4343e024",
   "metadata": {
    "execution": {
     "iopub.execute_input": "2023-05-23T06:02:20.748623Z",
     "iopub.status.busy": "2023-05-23T06:02:20.748353Z",
     "iopub.status.idle": "2023-05-23T06:02:21.368343Z",
     "shell.execute_reply": "2023-05-23T06:02:21.367409Z"
    },
    "papermill": {
     "duration": 0.632655,
     "end_time": "2023-05-23T06:02:21.370565",
     "exception": false,
     "start_time": "2023-05-23T06:02:20.737910",
     "status": "completed"
    },
    "tags": []
   },
   "outputs": [
    {
     "name": "stdout",
     "output_type": "stream",
     "text": [
      "0.977182247124742\n"
     ]
    }
   ],
   "source": [
    "# 1000 words in text\n",
    "count=0\n",
    "for i in df['text']:\n",
    "    if(len(i.split())<=1000):\n",
    "        count=count+1\n",
    "print(count/len(df['text']))"
   ]
  },
  {
   "cell_type": "code",
   "execution_count": 12,
   "id": "ca3110b1",
   "metadata": {
    "execution": {
     "iopub.execute_input": "2023-05-23T06:02:21.392149Z",
     "iopub.status.busy": "2023-05-23T06:02:21.391855Z",
     "iopub.status.idle": "2023-05-23T06:02:21.396474Z",
     "shell.execute_reply": "2023-05-23T06:02:21.395546Z"
    },
    "papermill": {
     "duration": 0.017617,
     "end_time": "2023-05-23T06:02:21.398549",
     "exception": false,
     "start_time": "2023-05-23T06:02:21.380932",
     "status": "completed"
    },
    "tags": []
   },
   "outputs": [],
   "source": [
    "max_text_len=1000\n",
    "max_summary_len=20"
   ]
  },
  {
   "cell_type": "code",
   "execution_count": 13,
   "id": "f51ac53c",
   "metadata": {
    "execution": {
     "iopub.execute_input": "2023-05-23T06:02:21.420591Z",
     "iopub.status.busy": "2023-05-23T06:02:21.420295Z",
     "iopub.status.idle": "2023-05-23T06:02:21.450560Z",
     "shell.execute_reply": "2023-05-23T06:02:21.449721Z"
    },
    "papermill": {
     "duration": 0.043991,
     "end_time": "2023-05-23T06:02:21.452635",
     "exception": false,
     "start_time": "2023-05-23T06:02:21.408644",
     "status": "completed"
    },
    "tags": []
   },
   "outputs": [
    {
     "data": {
      "text/plain": [
       "0        sostok 1000वें मैच राजस्थान विकेट हराया यशस्वी...\n",
       "1        sostok सुपरजायंट्स के घर 18 रन हराया सीजन सबसे...\n",
       "2        sostok 11 हजार+ छक्के पड़े 10 हजार विकेट गिरे 1...\n",
       "3        sostok जिस्म नहीं इडली-डोसा बेच रहीं टिफिन सर्...\n",
       "4        sostok तुरंत प्लान-बी एक्टिवेट लादेन मारते चिल...\n",
       "                               ...                        \n",
       "27123    sostok लड़के नदी उतार दी पल्सर बाइक लोग बोले च...\n",
       "27124    sostok लाल साड़ी पहन मेट्रो भोजपुरी गाने लड़की...\n",
       "27125    sostok घर धड़ल्ले घुस चोर तभी दबे पांव भागने म...\n",
       "27126    sostok अदरक-इलायची नहीं वेंडर बनाई रसगुल्ले वा...\n",
       "27127    sostok चोर के भागा दिन होगी रिलीज जबरदस्त यामी...\n",
       "Name: title, Length: 27128, dtype: object"
      ]
     },
     "execution_count": 13,
     "metadata": {},
     "output_type": "execute_result"
    }
   ],
   "source": [
    "df['title'] = df['title'].apply(lambda x : 'sostok '+ x + ' eostok')\n",
    "\n",
    "df['title']"
   ]
  },
  {
   "cell_type": "code",
   "execution_count": 14,
   "id": "193ffa1a",
   "metadata": {
    "execution": {
     "iopub.execute_input": "2023-05-23T06:02:21.475099Z",
     "iopub.status.busy": "2023-05-23T06:02:21.474238Z",
     "iopub.status.idle": "2023-05-23T06:02:21.478971Z",
     "shell.execute_reply": "2023-05-23T06:02:21.478163Z"
    },
    "papermill": {
     "duration": 0.017576,
     "end_time": "2023-05-23T06:02:21.481036",
     "exception": false,
     "start_time": "2023-05-23T06:02:21.463460",
     "status": "completed"
    },
    "tags": []
   },
   "outputs": [],
   "source": [
    "import numpy as np"
   ]
  },
  {
   "cell_type": "code",
   "execution_count": 15,
   "id": "6baca339",
   "metadata": {
    "execution": {
     "iopub.execute_input": "2023-05-23T06:02:21.504966Z",
     "iopub.status.busy": "2023-05-23T06:02:21.504638Z",
     "iopub.status.idle": "2023-05-23T06:02:21.518398Z",
     "shell.execute_reply": "2023-05-23T06:02:21.517514Z"
    },
    "papermill": {
     "duration": 0.028477,
     "end_time": "2023-05-23T06:02:21.520676",
     "exception": false,
     "start_time": "2023-05-23T06:02:21.492199",
     "status": "completed"
    },
    "tags": []
   },
   "outputs": [],
   "source": [
    "from sklearn.model_selection import train_test_split\n",
    "x_tr,x_val,y_tr,y_val=train_test_split(np.array(df['text']),np.array(df['title']),test_size=0.3,random_state=0,shuffle=True)"
   ]
  },
  {
   "cell_type": "code",
   "execution_count": 16,
   "id": "007007cd",
   "metadata": {
    "execution": {
     "iopub.execute_input": "2023-05-23T06:02:21.544534Z",
     "iopub.status.busy": "2023-05-23T06:02:21.543644Z",
     "iopub.status.idle": "2023-05-23T06:02:42.916038Z",
     "shell.execute_reply": "2023-05-23T06:02:42.915052Z"
    },
    "papermill": {
     "duration": 21.386504,
     "end_time": "2023-05-23T06:02:42.918454",
     "exception": false,
     "start_time": "2023-05-23T06:02:21.531950",
     "status": "completed"
    },
    "tags": []
   },
   "outputs": [],
   "source": [
    "from keras.preprocessing.text import Tokenizer \n",
    "from tensorflow.keras.preprocessing.sequence import pad_sequences\n",
    "\n",
    "#prepare a tokenizer for reviews on training data\n",
    "x_tknizer = Tokenizer() \n",
    "x_tknizer.fit_on_texts(list(x_tr))"
   ]
  },
  {
   "cell_type": "code",
   "execution_count": 17,
   "id": "5c3ae185",
   "metadata": {
    "execution": {
     "iopub.execute_input": "2023-05-23T06:02:42.940540Z",
     "iopub.status.busy": "2023-05-23T06:02:42.939938Z",
     "iopub.status.idle": "2023-05-23T06:02:43.047508Z",
     "shell.execute_reply": "2023-05-23T06:02:43.046392Z"
    },
    "papermill": {
     "duration": 0.121263,
     "end_time": "2023-05-23T06:02:43.049927",
     "exception": false,
     "start_time": "2023-05-23T06:02:42.928664",
     "status": "completed"
    },
    "tags": []
   },
   "outputs": [
    {
     "name": "stdout",
     "output_type": "stream",
     "text": [
      "% of rare words in vocabulary: 63.04755509331673\n",
      "Total Coverage of rare words: 1.9727343809160174\n"
     ]
    }
   ],
   "source": [
    "thresh=4\n",
    "\n",
    "count=0\n",
    "total_count=0\n",
    "frequency=0\n",
    "total_frequency=0\n",
    "\n",
    "for key,value in x_tknizer.word_counts.items():\n",
    "    total_count=total_count+1\n",
    "    total_frequency=total_frequency+value\n",
    "    if(value<thresh):\n",
    "        count=count+1\n",
    "        frequency=frequency+value\n",
    "    \n",
    "print(\"% of rare words in vocabulary:\",(count/total_count)*100)\n",
    "print(\"Total Coverage of rare words:\",(frequency/total_frequency)*100)"
   ]
  },
  {
   "cell_type": "code",
   "execution_count": 18,
   "id": "51c7034e",
   "metadata": {
    "execution": {
     "iopub.execute_input": "2023-05-23T06:02:43.071679Z",
     "iopub.status.busy": "2023-05-23T06:02:43.071380Z",
     "iopub.status.idle": "2023-05-23T06:03:01.541774Z",
     "shell.execute_reply": "2023-05-23T06:03:01.540772Z"
    },
    "papermill": {
     "duration": 18.483713,
     "end_time": "2023-05-23T06:03:01.543823",
     "exception": false,
     "start_time": "2023-05-23T06:02:43.060110",
     "status": "completed"
    },
    "tags": []
   },
   "outputs": [
    {
     "name": "stdout",
     "output_type": "stream",
     "text": [
      "Size of vocabulary in X = 45124\n"
     ]
    }
   ],
   "source": [
    "x_tknizer = Tokenizer(num_words=total_count-count) \n",
    "x_tknizer.fit_on_texts(list(x_tr))\n",
    "\n",
    "#convert text sequences into integer sequences (i.e one-hot encodeing all the words)\n",
    "x_tr_seq    =   x_tknizer.texts_to_sequences(x_tr) \n",
    "x_val_seq   =   x_tknizer.texts_to_sequences(x_val)\n",
    "\n",
    "#padding zero upto maximum length\n",
    "x_tr    =   pad_sequences(x_tr_seq,  maxlen=max_text_len, padding='post')\n",
    "x_val   =   pad_sequences(x_val_seq, maxlen=max_text_len, padding='post')\n",
    "\n",
    "#size of vocabulary ( +1 for padding token)\n",
    "x_voc   =  x_tknizer.num_words + 1\n",
    "\n",
    "print(\"Size of vocabulary in X = {}\".format(x_voc))"
   ]
  },
  {
   "cell_type": "code",
   "execution_count": 19,
   "id": "15050150",
   "metadata": {
    "execution": {
     "iopub.execute_input": "2023-05-23T06:03:01.566799Z",
     "iopub.status.busy": "2023-05-23T06:03:01.565177Z",
     "iopub.status.idle": "2023-05-23T06:03:02.098376Z",
     "shell.execute_reply": "2023-05-23T06:03:02.097403Z"
    },
    "papermill": {
     "duration": 0.547335,
     "end_time": "2023-05-23T06:03:02.101500",
     "exception": false,
     "start_time": "2023-05-23T06:03:01.554165",
     "status": "completed"
    },
    "tags": []
   },
   "outputs": [],
   "source": [
    "y_tknizer = Tokenizer()   \n",
    "y_tknizer.fit_on_texts(list(y_tr))"
   ]
  },
  {
   "cell_type": "code",
   "execution_count": 20,
   "id": "a3e304ae",
   "metadata": {
    "execution": {
     "iopub.execute_input": "2023-05-23T06:03:02.123475Z",
     "iopub.status.busy": "2023-05-23T06:03:02.123159Z",
     "iopub.status.idle": "2023-05-23T06:03:02.146926Z",
     "shell.execute_reply": "2023-05-23T06:03:02.145880Z"
    },
    "papermill": {
     "duration": 0.037201,
     "end_time": "2023-05-23T06:03:02.149093",
     "exception": false,
     "start_time": "2023-05-23T06:03:02.111892",
     "status": "completed"
    },
    "tags": []
   },
   "outputs": [
    {
     "name": "stdout",
     "output_type": "stream",
     "text": [
      "% of rare words in vocabulary: 77.05204778156997\n",
      "Total Coverage of rare words: 13.225072429528867\n"
     ]
    }
   ],
   "source": [
    "thresh=6\n",
    "\n",
    "count=0\n",
    "total_count=0\n",
    "frequency=0\n",
    "total_frequency=0\n",
    "\n",
    "for key,value in y_tknizer.word_counts.items():\n",
    "    total_count=total_count+1\n",
    "    total_frequency=total_frequency+value\n",
    "    if(value<thresh):\n",
    "        count=count+1\n",
    "        frequency=frequency+value\n",
    "    \n",
    "print(\"% of rare words in vocabulary:\",(count/total_count)*100)\n",
    "print(\"Total Coverage of rare words:\",(frequency/total_frequency)*100)"
   ]
  },
  {
   "cell_type": "code",
   "execution_count": 21,
   "id": "51a16ced",
   "metadata": {
    "execution": {
     "iopub.execute_input": "2023-05-23T06:03:02.170504Z",
     "iopub.status.busy": "2023-05-23T06:03:02.170189Z",
     "iopub.status.idle": "2023-05-23T06:03:03.429057Z",
     "shell.execute_reply": "2023-05-23T06:03:03.427763Z"
    },
    "papermill": {
     "duration": 1.272395,
     "end_time": "2023-05-23T06:03:03.431486",
     "exception": false,
     "start_time": "2023-05-23T06:03:02.159091",
     "status": "completed"
    },
    "tags": []
   },
   "outputs": [
    {
     "name": "stdout",
     "output_type": "stream",
     "text": [
      "Size of vocabulary in Y = 5380\n"
     ]
    }
   ],
   "source": [
    "#prepare a tokenizer for reviews on training data\n",
    "y_tknizer = Tokenizer(num_words=total_count-count) \n",
    "y_tknizer.fit_on_texts(list(y_tr))\n",
    "\n",
    "#convert text sequences into integer sequences (i.e one hot encode the text in Y)\n",
    "y_tr_seq    =   y_tknizer.texts_to_sequences(y_tr) \n",
    "y_val_seq   =   y_tknizer.texts_to_sequences(y_val) \n",
    "\n",
    "#padding zero upto maximum length\n",
    "y_tr    =   pad_sequences(y_tr_seq, maxlen=max_summary_len, padding='post')\n",
    "y_val   =   pad_sequences(y_val_seq, maxlen=max_summary_len, padding='post')\n",
    "\n",
    "#size of vocabulary\n",
    "y_voc  =   y_tknizer.num_words +1\n",
    "print(\"Size of vocabulary in Y = {}\".format(y_voc))"
   ]
  },
  {
   "cell_type": "code",
   "execution_count": 22,
   "id": "03928b5d",
   "metadata": {
    "execution": {
     "iopub.execute_input": "2023-05-23T06:03:03.454369Z",
     "iopub.status.busy": "2023-05-23T06:03:03.454074Z",
     "iopub.status.idle": "2023-05-23T06:03:04.559237Z",
     "shell.execute_reply": "2023-05-23T06:03:04.558283Z"
    },
    "papermill": {
     "duration": 1.119358,
     "end_time": "2023-05-23T06:03:04.561691",
     "exception": false,
     "start_time": "2023-05-23T06:03:03.442333",
     "status": "completed"
    },
    "tags": []
   },
   "outputs": [],
   "source": [
    "ind=[]\n",
    "for i in range(len(y_tr)):\n",
    "    count=0\n",
    "    for j in y_tr[i]:\n",
    "        if j!=0:\n",
    "            count=count+1\n",
    "    if(count==2):\n",
    "        ind.append(i)\n",
    "\n",
    "y_tr=np.delete(y_tr,ind, axis=0)\n",
    "x_tr=np.delete(x_tr,ind, axis=0)"
   ]
  },
  {
   "cell_type": "code",
   "execution_count": 23,
   "id": "f2889291",
   "metadata": {
    "execution": {
     "iopub.execute_input": "2023-05-23T06:03:04.583678Z",
     "iopub.status.busy": "2023-05-23T06:03:04.583388Z",
     "iopub.status.idle": "2023-05-23T06:03:05.078812Z",
     "shell.execute_reply": "2023-05-23T06:03:05.077857Z"
    },
    "papermill": {
     "duration": 0.509205,
     "end_time": "2023-05-23T06:03:05.081353",
     "exception": false,
     "start_time": "2023-05-23T06:03:04.572148",
     "status": "completed"
    },
    "tags": []
   },
   "outputs": [],
   "source": [
    "ind=[]\n",
    "for i in range(len(y_val)):\n",
    "    count=0\n",
    "    for j in y_val[i]:\n",
    "        if j!=0:\n",
    "            count=count+1\n",
    "    if(count==2):\n",
    "        ind.append(i)\n",
    "\n",
    "y_val=np.delete(y_val,ind, axis=0)\n",
    "x_val=np.delete(x_val,ind, axis=0)"
   ]
  },
  {
   "cell_type": "code",
   "execution_count": 24,
   "id": "9fdde07e",
   "metadata": {
    "execution": {
     "iopub.execute_input": "2023-05-23T06:03:05.105081Z",
     "iopub.status.busy": "2023-05-23T06:03:05.103426Z",
     "iopub.status.idle": "2023-05-23T06:03:11.653445Z",
     "shell.execute_reply": "2023-05-23T06:03:11.652680Z"
    },
    "papermill": {
     "duration": 6.586028,
     "end_time": "2023-05-23T06:03:11.678087",
     "exception": false,
     "start_time": "2023-05-23T06:03:05.092059",
     "status": "completed"
    },
    "tags": []
   },
   "outputs": [
    {
     "name": "stdout",
     "output_type": "stream",
     "text": [
      "Model: \"model\"\n",
      "__________________________________________________________________________________________________\n",
      " Layer (type)                   Output Shape         Param #     Connected to                     \n",
      "==================================================================================================\n",
      " input_1 (InputLayer)           [(None, 1000)]       0           []                               \n",
      "                                                                                                  \n",
      " embedding (Embedding)          (None, 1000, 100)    4512400     ['input_1[0][0]']                \n",
      "                                                                                                  \n",
      " lstm (LSTM)                    [(None, 1000, 200),  240800      ['embedding[0][0]']              \n",
      "                                 (None, 200),                                                     \n",
      "                                 (None, 200)]                                                     \n",
      "                                                                                                  \n",
      " input_2 (InputLayer)           [(None, None)]       0           []                               \n",
      "                                                                                                  \n",
      " lstm_1 (LSTM)                  [(None, 1000, 200),  320800      ['lstm[0][0]']                   \n",
      "                                 (None, 200),                                                     \n",
      "                                 (None, 200)]                                                     \n",
      "                                                                                                  \n",
      " embedding_1 (Embedding)        (None, None, 100)    538000      ['input_2[0][0]']                \n",
      "                                                                                                  \n",
      " lstm_2 (LSTM)                  [(None, 1000, 200),  320800      ['lstm_1[0][0]']                 \n",
      "                                 (None, 200),                                                     \n",
      "                                 (None, 200)]                                                     \n",
      "                                                                                                  \n",
      " lstm_3 (LSTM)                  [(None, None, 200),  240800      ['embedding_1[0][0]',            \n",
      "                                 (None, 200),                     'lstm_2[0][1]',                 \n",
      "                                 (None, 200)]                     'lstm_2[0][2]']                 \n",
      "                                                                                                  \n",
      " attention (Attention)          (None, None, 200)    0           ['lstm_3[0][0]',                 \n",
      "                                                                  'lstm_2[0][0]']                 \n",
      "                                                                                                  \n",
      " concat_layer1 (Concatenate)    (None, None, 400)    0           ['lstm_3[0][0]',                 \n",
      "                                                                  'attention[0][0]']              \n",
      "                                                                                                  \n",
      " time_distributed (TimeDistribu  (None, None, 5380)  2157380     ['concat_layer1[0][0]']          \n",
      " ted)                                                                                             \n",
      "                                                                                                  \n",
      "==================================================================================================\n",
      "Total params: 8,330,980\n",
      "Trainable params: 8,330,980\n",
      "Non-trainable params: 0\n",
      "__________________________________________________________________________________________________\n"
     ]
    }
   ],
   "source": [
    "from keras import backend as K \n",
    "import gensim\n",
    "from numpy import *\n",
    "import numpy as np\n",
    "import pandas as pd \n",
    "import re\n",
    "from bs4 import BeautifulSoup\n",
    "from keras.preprocessing.text import Tokenizer \n",
    "from tensorflow.keras.preprocessing.sequence import pad_sequences\n",
    "from nltk.corpus import stopwords\n",
    "from tensorflow.keras.layers import Input, LSTM, Embedding, Dense, Concatenate, TimeDistributed, Attention\n",
    "from tensorflow.keras.models import Model\n",
    "from tensorflow.keras.callbacks import EarlyStopping\n",
    "import warnings\n",
    "pd.set_option(\"display.max_colwidth\", 200)\n",
    "warnings.filterwarnings(\"ignore\")\n",
    "\n",
    "K.clear_session()\n",
    "\n",
    "latent_dim = 200\n",
    "embedding_dim=100\n",
    "\n",
    "# Encoder\n",
    "encoder_inputs = Input(shape=(max_text_len,))\n",
    "\n",
    "#embedding layer\n",
    "enc_emb =  Embedding(x_voc, embedding_dim,trainable=True)(encoder_inputs)\n",
    "\n",
    "#encoder lstm 1\n",
    "encoder_lstm1 = LSTM(latent_dim,return_sequences=True,return_state=True,dropout=0.4,recurrent_dropout=0.4)\n",
    "encoder_output1, state_h1, state_c1 = encoder_lstm1(enc_emb)\n",
    "\n",
    "#encoder lstm 2\n",
    "encoder_lstm2 = LSTM(latent_dim,return_sequences=True,return_state=True,dropout=0.4,recurrent_dropout=0.4)\n",
    "encoder_output2, state_h2, state_c2 = encoder_lstm2(encoder_output1)\n",
    "\n",
    "# #encoder lstm 3\n",
    "encoder_lstm3=LSTM(latent_dim, return_state=True, return_sequences=True,dropout=0.4,recurrent_dropout=0.4)\n",
    "encoder_outputs, state_h, state_c= encoder_lstm3(encoder_output2)\n",
    "\n",
    "# Set up the decoder, using `encoder_states` as initial state.\n",
    "decoder_inputs = Input(shape=(None,))\n",
    "\n",
    "#embedding layer\n",
    "dec_emb_layer = Embedding(y_voc, embedding_dim,trainable=True)\n",
    "dec_emb = dec_emb_layer(decoder_inputs)\n",
    "\n",
    "decoder_lstm = LSTM(latent_dim, return_sequences=True, return_state=True,dropout=0.4,recurrent_dropout=0.2)\n",
    "decoder_outputs,decoder_fwd_state, decoder_back_state = decoder_lstm(dec_emb,initial_state=[state_h, state_c])\n",
    "\n",
    "# Attention layer\n",
    "# attn_layer = AttentionLayer(name='attention_layer')\n",
    "# attn_out, attn_states = attn_layer([encoder_outputs, decoder_outputs])\n",
    "attention =Attention()\n",
    "attn_out = attention([decoder_outputs,encoder_outputs])\n",
    "\n",
    "#Concatenate the attention output with the decoder outputs\n",
    "merge=Concatenate(axis=-1, name='concat_layer1')([decoder_outputs,attn_out])\n",
    "\n",
    "\n",
    "#dense layer\n",
    "decoder_dense =  TimeDistributed(Dense(y_voc, activation='softmax'))\n",
    "decoder_outputs = decoder_dense(merge)\n",
    "\n",
    "# Define the model \n",
    "model = Model([encoder_inputs, decoder_inputs], decoder_outputs)\n",
    "model.summary()\n",
    "# plot_model(model, to_file='model_plot.png', show_shapes=True, show_layer_names=True)"
   ]
  },
  {
   "cell_type": "code",
   "execution_count": 25,
   "id": "b15d07ec",
   "metadata": {
    "execution": {
     "iopub.execute_input": "2023-05-23T06:03:11.706121Z",
     "iopub.status.busy": "2023-05-23T06:03:11.705822Z",
     "iopub.status.idle": "2023-05-23T06:03:11.722793Z",
     "shell.execute_reply": "2023-05-23T06:03:11.721936Z"
    },
    "papermill": {
     "duration": 0.033037,
     "end_time": "2023-05-23T06:03:11.724809",
     "exception": false,
     "start_time": "2023-05-23T06:03:11.691772",
     "status": "completed"
    },
    "tags": []
   },
   "outputs": [],
   "source": [
    "model.compile(optimizer='rmsprop', loss='sparse_categorical_crossentropy')"
   ]
  },
  {
   "cell_type": "code",
   "execution_count": 26,
   "id": "e8c5dd3c",
   "metadata": {
    "execution": {
     "iopub.execute_input": "2023-05-23T06:03:11.752896Z",
     "iopub.status.busy": "2023-05-23T06:03:11.752136Z",
     "iopub.status.idle": "2023-05-23T06:03:11.756822Z",
     "shell.execute_reply": "2023-05-23T06:03:11.756011Z"
    },
    "papermill": {
     "duration": 0.02084,
     "end_time": "2023-05-23T06:03:11.758808",
     "exception": false,
     "start_time": "2023-05-23T06:03:11.737968",
     "status": "completed"
    },
    "tags": []
   },
   "outputs": [],
   "source": [
    "es = EarlyStopping(monitor='val_loss', mode='min', verbose=1,patience=2)"
   ]
  },
  {
   "cell_type": "code",
   "execution_count": 27,
   "id": "f1898349",
   "metadata": {
    "execution": {
     "iopub.execute_input": "2023-05-23T06:03:11.787204Z",
     "iopub.status.busy": "2023-05-23T06:03:11.786457Z",
     "iopub.status.idle": "2023-05-23T14:00:44.052132Z",
     "shell.execute_reply": "2023-05-23T14:00:44.051073Z"
    },
    "papermill": {
     "duration": 28652.282348,
     "end_time": "2023-05-23T14:00:44.054549",
     "exception": false,
     "start_time": "2023-05-23T06:03:11.772201",
     "status": "completed"
    },
    "tags": []
   },
   "outputs": [
    {
     "name": "stdout",
     "output_type": "stream",
     "text": [
      "Epoch 1/10\n",
      "187/187 [==============================] - 3040s 16s/step - loss: 4.1622 - val_loss: 3.6992\n",
      "Epoch 2/10\n",
      "187/187 [==============================] - 2987s 16s/step - loss: 3.7940 - val_loss: 3.6742\n",
      "Epoch 3/10\n",
      "187/187 [==============================] - 2789s 15s/step - loss: 3.7761 - val_loss: 3.6637\n",
      "Epoch 4/10\n",
      "187/187 [==============================] - 2775s 15s/step - loss: 3.7635 - val_loss: 3.6599\n",
      "Epoch 5/10\n",
      "187/187 [==============================] - 2830s 15s/step - loss: 3.7511 - val_loss: 3.6489\n",
      "Epoch 6/10\n",
      "187/187 [==============================] - 2782s 15s/step - loss: 3.7382 - val_loss: 3.6383\n",
      "Epoch 7/10\n",
      "187/187 [==============================] - 2890s 15s/step - loss: 3.7224 - val_loss: 3.6279\n",
      "Epoch 8/10\n",
      "187/187 [==============================] - 2848s 15s/step - loss: 3.7045 - val_loss: 3.6153\n",
      "Epoch 9/10\n",
      "187/187 [==============================] - 2856s 15s/step - loss: 3.6845 - val_loss: 3.5937\n",
      "Epoch 10/10\n",
      "187/187 [==============================] - 2796s 15s/step - loss: 3.6378 - val_loss: 3.5414\n"
     ]
    }
   ],
   "source": [
    "history = model.fit(\n",
    "    [x_tr, y_tr[:,:-1]],\n",
    "    y_tr.reshape(y_tr.shape[0], y_tr.shape[1], 1)[:,1:],\n",
    "    epochs=10,\n",
    "    callbacks=[es],\n",
    "    batch_size=100,\n",
    "    validation_data=([x_val, y_val[:,:-1]], y_val.reshape(y_val.shape[0], y_val.shape[1], 1)[:,1:])\n",
    ")"
   ]
  },
  {
   "cell_type": "code",
   "execution_count": 28,
   "id": "7077a34a",
   "metadata": {
    "execution": {
     "iopub.execute_input": "2023-05-23T14:00:44.387801Z",
     "iopub.status.busy": "2023-05-23T14:00:44.387439Z",
     "iopub.status.idle": "2023-05-23T14:00:44.392039Z",
     "shell.execute_reply": "2023-05-23T14:00:44.391170Z"
    },
    "papermill": {
     "duration": 0.175974,
     "end_time": "2023-05-23T14:00:44.393953",
     "exception": false,
     "start_time": "2023-05-23T14:00:44.217979",
     "status": "completed"
    },
    "tags": []
   },
   "outputs": [],
   "source": [
    "reverse_target_word_index=y_tknizer.index_word\n",
    "reverse_source_word_index=x_tknizer.index_word\n",
    "target_word_index=y_tknizer.word_index"
   ]
  },
  {
   "cell_type": "code",
   "execution_count": 29,
   "id": "3a9e0a9c",
   "metadata": {
    "execution": {
     "iopub.execute_input": "2023-05-23T14:00:44.705104Z",
     "iopub.status.busy": "2023-05-23T14:00:44.704311Z",
     "iopub.status.idle": "2023-05-23T14:00:44.849614Z",
     "shell.execute_reply": "2023-05-23T14:00:44.848744Z"
    },
    "papermill": {
     "duration": 0.305815,
     "end_time": "2023-05-23T14:00:44.851585",
     "exception": false,
     "start_time": "2023-05-23T14:00:44.545770",
     "status": "completed"
    },
    "tags": []
   },
   "outputs": [],
   "source": [
    "# Encoding our input seq for feature vector\n",
    "encoder_model = Model(inputs=encoder_inputs,outputs=[encoder_outputs, state_h, state_c])\n",
    "\n",
    "decoder_state_input_h = Input(shape=(latent_dim,))\n",
    "decoder_state_input_c = Input(shape=(latent_dim,))\n",
    "decoder_hidden_state_input = Input(shape=(max_text_len,latent_dim))\n",
    "\n",
    "dec_emb2= dec_emb_layer(decoder_inputs) \n",
    "\n",
    "# initial states from the previous time step\n",
    "decoder_outputs2, state_h2, state_c2 = decoder_lstm(dec_emb2, initial_state=[decoder_state_input_h, decoder_state_input_c])\n",
    "\n",
    "#Attention layer\n",
    "# attention = model.layers[8]\n",
    "attn_out2 = attention([decoder_outputs2,decoder_hidden_state_input])\n",
    " \n",
    "merge2 = Concatenate(axis=-1)([decoder_outputs2, attn_out2])\n",
    "\n",
    "# softmax for probability\n",
    "# decoder_outputs2 = decoder_dense(decoder_outputs2) \n",
    "decoder_outputs2=decoder_dense(merge2)\n",
    "\n",
    "decoder_model = Model(\n",
    "    [decoder_inputs] + [decoder_hidden_state_input,decoder_state_input_h, decoder_state_input_c],\n",
    "    [decoder_outputs2] + [state_h2, state_c2])"
   ]
  },
  {
   "cell_type": "code",
   "execution_count": 30,
   "id": "353ebc6a",
   "metadata": {
    "execution": {
     "iopub.execute_input": "2023-05-23T14:00:45.158465Z",
     "iopub.status.busy": "2023-05-23T14:00:45.158184Z",
     "iopub.status.idle": "2023-05-23T14:00:45.164139Z",
     "shell.execute_reply": "2023-05-23T14:00:45.163198Z"
    },
    "papermill": {
     "duration": 0.162592,
     "end_time": "2023-05-23T14:00:45.166100",
     "exception": false,
     "start_time": "2023-05-23T14:00:45.003508",
     "status": "completed"
    },
    "tags": []
   },
   "outputs": [],
   "source": [
    "def sequence_to_summary(input_seq):\n",
    "    newString=''\n",
    "    for i in input_seq:\n",
    "        if((i!=0 and i!=target_word_index['sostok']) and i!=target_word_index['eostok']):\n",
    "            newString=newString+reverse_target_word_index[i]+' '\n",
    "    return newString\n",
    "\n",
    "def sequence_to_text(input_seq):\n",
    "    newString=''\n",
    "    for i in input_seq:\n",
    "        if(i!=0):\n",
    "            newString=newString+reverse_source_word_index[i]+' '\n",
    "    return newString"
   ]
  },
  {
   "cell_type": "code",
   "execution_count": 31,
   "id": "607bf2c5",
   "metadata": {
    "execution": {
     "iopub.execute_input": "2023-05-23T14:00:45.488287Z",
     "iopub.status.busy": "2023-05-23T14:00:45.488013Z",
     "iopub.status.idle": "2023-05-23T14:00:45.496117Z",
     "shell.execute_reply": "2023-05-23T14:00:45.495124Z"
    },
    "papermill": {
     "duration": 0.173737,
     "end_time": "2023-05-23T14:00:45.498172",
     "exception": false,
     "start_time": "2023-05-23T14:00:45.324435",
     "status": "completed"
    },
    "tags": []
   },
   "outputs": [],
   "source": [
    "def decode_sequence(input_seq):\n",
    "    # Encode the input as state vectors.\n",
    "    e_out, e_h, e_c = encoder_model.predict(input_seq)\n",
    "    \n",
    "    # Generate empty target sequence of length 1.\n",
    "    target_seq = np.zeros((1,1))\n",
    "    \n",
    "    # Populate the first word of target sequence with the start word.\n",
    "    target_seq[0, 0] = target_word_index['sostok']\n",
    "\n",
    "    stop_condition = False\n",
    "    decoded_sentence = ''\n",
    "    while not stop_condition:\n",
    "      \n",
    "        output_tokens, h, c = decoder_model.predict([target_seq] + [e_out, e_h, e_c])\n",
    "        \n",
    "\n",
    "        # Sample a token\n",
    "    \n",
    "        sampled_token_index = np.argmax(output_tokens[0, -1, :], axis=0)\n",
    "#         np.argmax(output_tokens[0, -1])\n",
    "        \n",
    "        sampled_token = reverse_target_word_index[sampled_token_index]\n",
    "#         print(output_tokens)\n",
    "        \n",
    "        if(sampled_token!='eostok'):\n",
    "            decoded_sentence += ' '+sampled_token\n",
    "\n",
    "        # Exit condition: either hit max length or find stop word.\n",
    "        if (sampled_token == 'eostok'  or len(decoded_sentence.split()) >= (max_summary_len-1)):\n",
    "            stop_condition = True\n",
    "\n",
    "        # Update the target sequence (of length 1).\n",
    "        target_seq = np.zeros((1,1))\n",
    "        target_seq[0, 0] = sampled_token_index\n",
    "\n",
    "        # Update internal states\n",
    "        e_h, e_c = h, c\n",
    "\n",
    "    return decoded_sentence"
   ]
  },
  {
   "cell_type": "code",
   "execution_count": 32,
   "id": "75ae9bf6",
   "metadata": {
    "execution": {
     "iopub.execute_input": "2023-05-23T14:00:45.802587Z",
     "iopub.status.busy": "2023-05-23T14:00:45.801860Z",
     "iopub.status.idle": "2023-05-23T14:00:55.084432Z",
     "shell.execute_reply": "2023-05-23T14:00:55.083515Z"
    },
    "papermill": {
     "duration": 9.437265,
     "end_time": "2023-05-23T14:00:55.086434",
     "exception": false,
     "start_time": "2023-05-23T14:00:45.649169",
     "status": "completed"
    },
    "tags": []
   },
   "outputs": [
    {
     "name": "stdout",
     "output_type": "stream",
     "text": [
      "Review: पंजाब सरकारी स्कूलों सख्त शिक्षा विभाग योग्य छात्रों के सरकारी लाभ सुनिश्चित के निर्देश रजिस्ट्रेशन वालों संख्या गिरावट लुधियाना 11 दिन कॉपी लिंक प्रतीकात्मक फोटो। पंजाब होनहार छात्रों केंद्र राज्य सरकार प्रायोजित छात्रवृत्ति योजनाओं लाभ सुनिश्चित के राज्य शिक्षा विभाग स्कूलों ई पंजाब पोर्टल के माध्यम योजनाओं के अनिवार्य रूप ऑनलाइन आवेदन के निर्देश दिए हैं। विभाग प्रवेश के योग्य छात्रों चयन जाए। स्कूल शिक्षा महानिदेशक पत्र उल्लेख पिछले शैक्षणिक सत्र छात्र सक्षम नहीं उन्हें योजनाओं के पंजीकृत क्योंकि रिकॉर्ड पूरी जांच नहीं थी। विभाग के मुताबिक प्रक्रिया बर्बादी राष्ट्रीय अनुसूचित जाति आयोग प्रक्रिया ध्यान था। विकास कार्यों के पंजीकरण जिम्मेदारी विद्यालयों के प्रधानाध्यापकों होगी। लाभार्थियों संख्या आई गिरावट पत्र आरक्षित अनुसूचित जाति जनसंख्या अधिक के बावजूद छात्रवृत्ति के आवेदन छात्रों संख्या कमी आई है। तथ्य एससी आयोग के नोटिस है। विभाग स्कूल प्रमुखों छात्रों पोर्टल आवेदन के प्रोत्साहित कहा। छात्रवृत्ति के सहायक निदेशक सिंह बताया वर्तमान शैक्षणिक सत्र छात्रवृत्ति के पोर्टल केवल बार खोला जाएगा निर्धारित सीमा के छात्रों पंजीकृत अनिवार्य घोषित जाना उन्होंने स्कूल स्तर जिला स्तर मुख्यालय डिलीवरी नहीं सख्त कार्रवाई जाएगी। \n",
      "Original summary: योग्य छात्रों के सरकारी लाभ के निर्देश रजिस्ट्रेशन वालों संख्या गिरावट \n",
      "1/1 [==============================] - 1s 1s/step\n",
      "1/1 [==============================] - 0s 238ms/step\n",
      "1/1 [==============================] - 0s 22ms/step\n",
      "1/1 [==============================] - 0s 22ms/step\n",
      "1/1 [==============================] - 0s 22ms/step\n",
      "1/1 [==============================] - 0s 22ms/step\n",
      "1/1 [==============================] - 0s 23ms/step\n",
      "1/1 [==============================] - 0s 22ms/step\n",
      "1/1 [==============================] - 0s 21ms/step\n",
      "1/1 [==============================] - 0s 22ms/step\n",
      "1/1 [==============================] - 0s 21ms/step\n",
      "1/1 [==============================] - 0s 22ms/step\n",
      "1/1 [==============================] - 0s 22ms/step\n",
      "1/1 [==============================] - 0s 22ms/step\n",
      "Predicted summary:  के दिन के दिन के दिन के दिन के दिन के दिन\n",
      "\n",
      "\n",
      "Review: डाकघरों इंटरनेट कनेक्टिविटी जोड़ने वाला पहला राज्य केंद्र रिपोर्ट एकमात्र राज्य जहां हर मोबाइल नेटवर्क जुड़ा भोपाल 23 दिन कॉपी लिंक देश डाकघरों मोबाइल नेटवर्क इंटरनेट कनेक्टिविटी जोड़ने मध्यप्रदेश देश नंबर है। केन्द्र सरकार लोकसभा दी जानकारी मप्र राज्य जहां हर डाकघर मोबाइल नेटवर्क इंटरनेट कनेक्टिविटी जुड़ है। जानिए राज्य के कितने डाकघरों इंटरनेट कनेक्टिविटी नहीं \n",
      "Original summary: केंद्र रिपोर्ट राज्य जहां हर मोबाइल नेटवर्क \n",
      "1/1 [==============================] - 1s 798ms/step\n",
      "1/1 [==============================] - 0s 24ms/step\n",
      "1/1 [==============================] - 0s 22ms/step\n",
      "1/1 [==============================] - 0s 21ms/step\n",
      "1/1 [==============================] - 0s 22ms/step\n",
      "1/1 [==============================] - 0s 21ms/step\n",
      "1/1 [==============================] - 0s 22ms/step\n",
      "1/1 [==============================] - 0s 22ms/step\n",
      "1/1 [==============================] - 0s 21ms/step\n",
      "1/1 [==============================] - 0s 21ms/step\n",
      "1/1 [==============================] - 0s 21ms/step\n",
      "1/1 [==============================] - 0s 22ms/step\n",
      "1/1 [==============================] - 0s 21ms/step\n",
      "1/1 [==============================] - 0s 23ms/step\n",
      "Predicted summary:  के दिन के दिन के दिन के दिन के दिन के दिन\n",
      "\n",
      "\n",
      "Review: मर्डर वीडियो पुणे अखाड़ा मालिक बदमाशों गोलियां मारीं सिर बुलेट लगने मौत पुणे वर्ष कॉपी लिंक पुणे सटे पिंपरी चिंचवाड़ के चाकण हत्या दिल दहला देने वाली वारदात कैमरे कैद है। घर के कार बैठे शख्स तीन अज्ञात हमलावरों गोलियों छलनी दिया। गोलियां चलाते मौत नहीं गई। पुलिस के मुताबिक मृतक पहचान नागेश के रूप है। हत्यारों नागेश गोलियां मारी हैं। इनमें गोली सिर लगीं उन्होंने मौके दम तोड़ दिया। हत्या वजह पुरानी रंजिश नागेश अखाड़ा चलाते हैं। वारदात गांव गुरुवार रात 10 बजे के आसपास हुई। हत्या के पीछे पुरानी रंजिश बताई है। हत्या के फुटेज के आधार पुलिस मामले जांच है। बुधवार 17 वर्षीय युवक मौत के घाट उतारा पिछले सप्ताह के पिंपरी पुलिस कमिश्नरेट हत्या तीसरी वारदात है। बुधवार इलाके 17 वर्षीय अनिल परदेसी के सिर हथौड़ा मारकर मौत के घाट उतार था। समझा युवक के सिर गोली मारी पता चला हत्या हथौड़े वार गई। \n",
      "Original summary: पुणे मालिक बदमाशों गोलियां सिर बुलेट लगने मौत \n",
      "1/1 [==============================] - 1s 801ms/step\n",
      "1/1 [==============================] - 0s 23ms/step\n",
      "1/1 [==============================] - 0s 23ms/step\n",
      "1/1 [==============================] - 0s 21ms/step\n",
      "1/1 [==============================] - 0s 22ms/step\n",
      "1/1 [==============================] - 0s 22ms/step\n",
      "1/1 [==============================] - 0s 22ms/step\n",
      "1/1 [==============================] - 0s 23ms/step\n",
      "1/1 [==============================] - 0s 22ms/step\n",
      "1/1 [==============================] - 0s 23ms/step\n",
      "1/1 [==============================] - 0s 21ms/step\n",
      "Predicted summary:  पुलिस के घर के घर के घर के घर\n",
      "\n",
      "\n",
      "Review: हरियाणा अनीता नेपाल करेगी फतह बार चुकी माउंट एवरेस्ट चढ़ाई मनोहर दी शुभकामनाएं चंडीगढ़ 15 दिन कॉपी लिंक सीएम मनोहर लाल के अनीता हरियाणा वर्ल्ड फेमस पर्वतारोही अनीता कुंडू नेपाल माउंट फतेह तैयारी हैं। नेपाल चोटी मीटर ऊंची है। इससे बार दुनिया सबसे ऊंची चोटी माउंट एवरेस्ट सफल चढ़ाई चुकी हैं। नेपाल यात्रा अनीता हरियाणा के मुख्यमंत्री मनोहर लाल खट्टर मुलाकात की। अनीता नए अभियान के शुभकामनाएं दी हैं। हरियाणा बेटी अनीता कुंडू जीवन कांटों भरा है। अनीता बचपन कबड्डी खेलने शौक जिसके चलते उन्होंने 5वीं कक्षा कबड्डी खेलना शुरू था। शौक वो अधिक दिन नहीं रख पाई। कुंडू 12 साल पिता निधन था। 2001 पिता मौत के अनीता कबड्डी खेलना छोड़ दिया। अनीता परिवार आर्थिक दशा सुधारने के मां के दूध बेचना शुरू दिया। कुंडू पहली बार 2013 नेपाल ओर माउंट एवरेस्ट चढ़ाई थी। 2008 पुलिस नौकरी 2008 कुंडू पुलिस सेवा शामिल हुईं उन्होंने वरिष्ठ अधिकारियों पर्वतारोही बनने इच्छा जताई। कुंडू कड़ी मेहनत प्रशिक्षण लिया। कुंडू पहली बार 2013 नेपाल ओर माउंट एवरेस्ट चढ़ाई थी। 2015 वो चोटी फतह के निकली भूकंप के कारण लौटना पड़ा। 2017 कुंडू चीन तरफ एवरेस्ट फतह 2019 अभियान के नेता के रूप एवरेस्ट फतह किया। कुंडू महाद्वीपों चोटियों फतह है। मिल चुका राष्ट्रीय साहसिक पुरस्कार अनीता कुंडू साल राष्ट्रीय साहसिक पुरस्कार मिला था। कुंडू महाद्वीपों चोटियों फतह है। साहसिक कार्यों के बेजोड़ समर्पण के उन्हें पुरस्कार गया। पिछले महीने हरियाणा के दिवसीय दौरे आईं राष्ट्रपति द्रौपदी मुर्मू देश के सामने महिला सशक्तिकरण बेहतरीन मिसाल पेश के राज्य बेटियों जमकर तारीफ थी। \n",
      "Original summary: 3 बार चुकी माउंट मनोहर दी \n",
      "1/1 [==============================] - 1s 908ms/step\n",
      "1/1 [==============================] - 0s 24ms/step\n",
      "1/1 [==============================] - 0s 22ms/step\n",
      "1/1 [==============================] - 0s 22ms/step\n",
      "1/1 [==============================] - 0s 22ms/step\n",
      "1/1 [==============================] - 0s 22ms/step\n",
      "1/1 [==============================] - 0s 22ms/step\n",
      "1/1 [==============================] - 0s 21ms/step\n",
      "1/1 [==============================] - 0s 23ms/step\n",
      "1/1 [==============================] - 0s 21ms/step\n",
      "1/1 [==============================] - 0s 22ms/step\n",
      "1/1 [==============================] - 0s 22ms/step\n",
      "1/1 [==============================] - 0s 23ms/step\n",
      "1/1 [==============================] - 0s 22ms/step\n",
      "Predicted summary:  के दिन के दिन के दिन के दिन के दिन के दिन\n",
      "\n",
      "\n",
      "Review: शिमला के कॉलेज पहुंची टीम दिन स्टूडेंट्स फीडबैक लाइब्रेरी क्लास रूम विजिट शिमला महीने कॉपी लिंक नैक टीम दौरा हुए। शिमला के नैक टीम दौरा किया। टीम स्टूडेंट्स फीडबैक लिया। टीम सिलेबस संबंधित स्टूडेंट्स सवाल जवाब किए। दिन के विजिट टीम कॉलेज तैयारियों लगभग संतुष्ट नजर आया। कॉलेज के कैंपस लाइब्रेरी क्लास रूम निरीक्षण है। पेरेंट्स टीम बातचीत की। रात कॉलेज ऑडिटोरियम सांस्कृतिक कार्यक्रम आयोजन जाएगा। कॉलेज रहेगी टीम बता दें टीम दिन के दौरे है। स्टूडेंट्स दी वाली हर प्रकार सुविधाओं देखा जाएगा ग्रेड निर्धारित जाएगा। स्टाफ बोला काम संतुष्ट कॉलेज प्रिंसिपल डॉ रुचि रमेश काम संतुष्ट है। टीम ग्रेड देगा मंजूर होगा। उन्होंने कॉलेज के टीचिंग स्टाफ नॉन टीचिंग स्टाफ स्टूडेंट्स पेरेंट्स सहयोग है। सिर्फ टीम के तैयारियां बल्कि कॉलेज माहौल है। ग्रेड लेना चाहता कॉलेज कॉलेज 20 सालों ग्रेड दर्जा मिला है। कॉलेज प्रबंधन सुधार चाहता है। इतने लंबे अंतराल के टीम कॉलेज विजिट है। \n",
      "Original summary: दिन स्टूडेंट्स फीडबैक क्लास रूम \n",
      "1/1 [==============================] - 1s 800ms/step\n",
      "1/1 [==============================] - 0s 22ms/step\n",
      "1/1 [==============================] - 0s 23ms/step\n",
      "1/1 [==============================] - 0s 22ms/step\n",
      "1/1 [==============================] - 0s 21ms/step\n",
      "1/1 [==============================] - 0s 22ms/step\n",
      "1/1 [==============================] - 0s 22ms/step\n",
      "1/1 [==============================] - 0s 22ms/step\n",
      "Predicted summary:  के साल के नाम के नाम\n",
      "\n",
      "\n"
     ]
    }
   ],
   "source": [
    "for i in range(20,25):\n",
    "   \n",
    "    print(\"Review:\",sequence_to_text(x_tr[i]))\n",
    "    print(\"Original summary:\",(sequence_to_summary(y_tr[i])).replace('start', '').replace('end', ''))\n",
    "    print(\"Predicted summary:\",(decode_sequence(x_tr[i].reshape(1,max_text_len))).replace('start', '').replace('end', ''))\n",
    "    print(\"\\n\")"
   ]
  }
 ],
 "metadata": {
  "kernelspec": {
   "display_name": "Python 3",
   "language": "python",
   "name": "python3"
  },
  "language_info": {
   "codemirror_mode": {
    "name": "ipython",
    "version": 3
   },
   "file_extension": ".py",
   "mimetype": "text/x-python",
   "name": "python",
   "nbconvert_exporter": "python",
   "pygments_lexer": "ipython3",
   "version": "3.10.10"
  },
  "papermill": {
   "default_parameters": {},
   "duration": 28896.951219,
   "end_time": "2023-05-23T14:00:59.041589",
   "environment_variables": {},
   "exception": null,
   "input_path": "__notebook__.ipynb",
   "output_path": "__notebook__.ipynb",
   "parameters": {},
   "start_time": "2023-05-23T05:59:22.090370",
   "version": "2.4.0"
  }
 },
 "nbformat": 4,
 "nbformat_minor": 5
}
